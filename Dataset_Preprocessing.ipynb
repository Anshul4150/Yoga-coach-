{
 "cells": [
  {
   "cell_type": "code",
   "execution_count": null,
   "metadata": {},
   "outputs": [],
   "source": [
    "# import os\n",
    "# from zipfile import ZipFile\n",
    "# import shutil"
   ]
  },
  {
   "cell_type": "code",
   "execution_count": null,
   "metadata": {},
   "outputs": [],
   "source": [
    "# dir = \"/content/drive/MyDrive/\"\n",
    "# test = os.listdir(dir)\n",
    "# for images in test:\n",
    "#     if images.endswith(\".jpg\") or images.endswith('.JPG') or images.endswith('.png'):\n",
    "#         os.remove(os.path.join(dir, images))"
   ]
  },
  {
   "cell_type": "code",
   "execution_count": 1,
   "metadata": {},
   "outputs": [],
   "source": [
    "# # Dataset Unzipping and processing\n",
    "# zip_path = \"/content/drive/MyDrive/dataset_yoga.zip\"\n",
    "# with ZipFile(zip_path,'r') as zip:\n",
    "#     os.mkdir(\"/content/drive/MyDrive/Yoga_Dataset_1\")\n",
    "#     zip.extractall(\"/content/drive/MyDrive/Yoga_Dataset_1\")\n",
    "#     print(\"done!\")"
   ]
  },
  {
   "cell_type": "code",
   "execution_count": null,
   "metadata": {},
   "outputs": [],
   "source": [
    "# data_dir = \"/content/drive/MyDrive/Yoga_Dataset/\"\n",
    "# poses = os.listdir(data_dir + os.listdir(data_dir)[0])\n",
    "# os.mkdir(data_dir + \"train/\")\n",
    "# os.mkdir(data_dir + \"test/\")\n",
    "# split = 0.8\n",
    "# train_len = 100\n",
    "# test_len = 40\n",
    "\n",
    "# for pose in poses:\n",
    "\n",
    "#   train_count , test_count = 0, 0\n",
    "#   os.mkdir(data_dir + \"train/\" + pose)\n",
    "#   os.mkdir(data_dir + \"test/\" + pose)\n",
    "\n",
    "#   images = os.listdir(data_dir + \"dataset_yoga/\" + pose)\n",
    "#   len_split = int(len(images)*split)\n",
    "#   train_images, test_images = images[:len_split], images[len_split:]\n",
    "\n",
    "#   src_path = data_dir + \"dataset_yoga/\" + pose\n",
    "#   train_dest_path = data_dir + \"train/\" + pose\n",
    "#   test_dest_path = data_dir + \"test/\" + pose\n",
    "#   for image in train_images:\n",
    "#     if train_count < train_len:\n",
    "#       shutil.move(os.path.join(src_path,image),train_dest_path)\n",
    "#     train_count += 1\n",
    "\n",
    "#   for image in test_images:\n",
    "#     if test_count < test_len:\n",
    "#       shutil.move(os.path.join(src_path,image),test_dest_path)\n",
    "#     test_count += 1"
   ]
  },
  {
   "cell_type": "code",
   "execution_count": null,
   "metadata": {},
   "outputs": [],
   "source": [
    "# data_dir = \"/content/drive/MyDrive/Yoga_Dataset/\"\n",
    "# train_min,train_sum,test_min,test_sum = 0, 0, 0 ,0\n",
    "# for folder, sub, file in os.walk(data_dir):\n",
    "#   # print(folder)\n",
    "#   # print(len(file))\n",
    "#   if folder == \"/content/drive/MyDrive/Yoga_Dataset/train_2\":\n",
    "#     train_total_images = [len(os.listdir(os.path.join(folder,file))) for file in sub]\n",
    "#     train_sum = sum(train_total_images)\n",
    "#     train_min = min(train_total_images)\n",
    "#   elif folder == \"/content/drive/MyDrive/Yoga_Dataset/test_2\":\n",
    "#     test_total_images = [len(os.listdir(os.path.join(folder,file))) for file in sub]\n",
    "#     test_sum = sum(test_total_images)\n",
    "#     test_min = min(test_total_images)\n",
    "# print(train_total_images,test_total_images)"
   ]
  },
  {
   "cell_type": "code",
   "execution_count": null,
   "metadata": {},
   "outputs": [],
   "source": [
    "# test_src_folder = \"/content/drive/MyDrive/Yoga_Dataset/test_1\"\n",
    "# test_dst_folder = \"/content/drive/MyDrive/Yoga_Dataset/test_2\"\n",
    "\n",
    "# for pose in os.listdir(test_src_folder):\n",
    "#   shutil.move(os.path.join(os.path.join(test_src_folder,pose),os.listdir(os.path.join(test_src_folder,pose))[0]),os.path.join(test_dst_folder,pose))"
   ]
  },
  {
   "cell_type": "code",
   "execution_count": null,
   "metadata": {},
   "outputs": [],
   "source": [
    "# train_sum, test_sum, train_min, test_min"
   ]
  }
 ],
 "metadata": {
  "kernelspec": {
   "display_name": "Python 3",
   "language": "python",
   "name": "python3"
  },
  "language_info": {
   "codemirror_mode": {
    "name": "ipython",
    "version": 3
   },
   "file_extension": ".py",
   "mimetype": "text/x-python",
   "name": "python",
   "nbconvert_exporter": "python",
   "pygments_lexer": "ipython3",
   "version": "3.7.3"
  }
 },
 "nbformat": 4,
 "nbformat_minor": 4
}
